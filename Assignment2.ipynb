{
  "nbformat": 4,
  "nbformat_minor": 0,
  "metadata": {
    "colab": {
      "provenance": []
    },
    "kernelspec": {
      "name": "python3",
      "display_name": "Python 3"
    },
    "language_info": {
      "name": "python"
    }
  },
  "cells": [
    {
      "cell_type": "markdown",
      "source": [
        "Say hi to your pet!🐾"
      ],
      "metadata": {
        "id": "dS1Swem9w4wy"
      }
    },
    {
      "cell_type": "markdown",
      "source": [
        "# Assignment 2: Data Types and Structures"
      ],
      "metadata": {
        "id": "AWuRNrrWqNck"
      }
    },
    {
      "cell_type": "markdown",
      "source": [
        "Q1. What are data structures, and why are they important ?\n",
        "\n",
        "Data structures are organized ways to store, manage, and retrieve data efficiently in a computer.\n",
        ">Importance of Data Structure :\n",
        "\n",
        ">>Efficient Data Management :Help organize large amounts of data so it's easy to access andmodify.\n",
        "\n",
        ">>Faster Searching & Sorting: Certain data structures allow faster operations.\n",
        "\n",
        ">>Memory Optimization: Help reduce memory usage by using optimal storage formats.\n",
        "\n",
        ">>Foundation for Algorithms: Most algorithms rely on data structures to work correctly andefficiently.\n",
        "\n",
        ">>Real-world Problem Solving: Useful in tasks like file systems, databases, social networks, etc.\n",
        "\n",
        ">>Helps in Decision Making: Choosing the right data structure can improve performance drastically.\n",
        "\n",
        ">Examples: List,tuple,sets\n"
      ],
      "metadata": {
        "id": "HtUzu40NwUMA"
      }
    },
    {
      "cell_type": "markdown",
      "source": [
        "Q2. Explain the difference between mutable and immutable data types with examples\n",
        "\n",
        ">>Mutable:\n",
        "\n",
        ">>>Objects that can be changed after they are created.\n",
        "No new memory location is created\n",
        "\n",
        ">Example :list, dict, set\n",
        "\n",
        ">>Immutable:\n",
        "\n",
        ">>>Objects that cannot be changed after they are created.\n",
        "\n",
        ">>>Creation of new memory location at any changes\n",
        "\n",
        ">Examples: int, float, str, tuple\n"
      ],
      "metadata": {
        "id": "-SIcBSAQ7-K7"
      }
    },
    {
      "cell_type": "markdown",
      "source": [
        "Q3. What are the main differences between lists and tuples in Python ?\n",
        "\n",
        ">Difference between List and tuple\n",
        "\n",
        ">>1.\n",
        "Mutability: Lists are mutable whereas tuples are immutable.\n",
        "\n",
        ">>This means you can change, add, or remove elements in a list, but you cannot modify a tuple after it's created.\n",
        "\n",
        ">>2.\n",
        "Syntax: Lists use square brackets [ ], whereas tuples use parentheses ( ).\n",
        "This means you define a list like [1, 2, 3] and a tuple like (1, 2, 3).\n",
        "\n",
        ">>3.\n",
        "Methods Available: Lists have many built-in methods, whereas tuples\n",
        "have very few.\n",
        "\n",
        ">>This means you can modify a list using methods like append(), pop(), or sort(), but tuples only support count()and index().\n",
        "\n",
        ">>4.\n",
        "Performance: Tuples are faster in performance than lists. This is because tuples are immutable and require less overhead, making them more efficient in fixed-size dataoperations.\n",
        "\n",
        ">>5.\n",
        "Memory Usage: Tuples use less memory than lists. Since tuples are fixed in size, they consume less memory than dynamic lists.\n",
        "\n",
        ">>6.\n",
        " Use Case: Lists are used when data can change, whereas tuples are used for fixed data.\n",
        "\n",
        ">>This means use lists for dynamic operations, and tuples when you want to protect data from modification."
      ],
      "metadata": {
        "id": "PoHirx4S9qm0"
      }
    },
    {
      "cell_type": "markdown",
      "source": [
        "Q4. Describe how dictionaries store data.\n",
        "\n",
        ">A dictionary in Python is a collection of key-value pairs, where each key is unique and is used to access its corresponding value.\n",
        "\n",
        ">Dictionaries store data:\n",
        "\n",
        ">>A dictionary stores data as key-value pairs.\n",
        "\n",
        ">>The key is used to identify the data.\n",
        "\n",
        ">>The value is the data associated with that key.\n",
        "\n",
        ">>It allows for quick access, update, and deletion of data using keys."
      ],
      "metadata": {
        "id": "aiqzcJz2_NEh"
      }
    },
    {
      "cell_type": "markdown",
      "source": [
        "Q5. Why might you use a set instead of a list in Python ?\n",
        "\n",
        ">Reasons to use set instead of list :\n",
        "\n",
        ">>1.\n",
        "No duplicate elements : A set automatically removes duplicates, while a list can store them.\n",
        "\n",
        ">>2.\n",
        "Faster lookups : Checking if an element exists in a set (in operation) is generally O(1), compared to O(n) for a list.\n",
        "\n",
        ">>3.\n",
        "Unordered collection : If you don’t care about the order of elements, sets are more efficient.\n",
        "\n",
        ">>4.\n",
        "Mathematical operations : Sets support union, intersection, and difference operations directly.\n",
        "\n",
        ">>5.\n",
        "Better for uniqueness checks : When you need only unique items, sets avoid manual duplicate removal."
      ],
      "metadata": {
        "id": "1GFPx6sO-8KG"
      }
    },
    {
      "cell_type": "markdown",
      "source": [
        "Q6. What is a string in Python, and how is it different from a list ?\n",
        "\n",
        ">String: A string is a sequence of characters. Python treats anything inside quotes as a string. This includes letters, numbers,and symbols. Python has no character data type so single character is a string of length 1.\n",
        "\n",
        "String different from list:\n",
        "\n",
        ">>1.\n",
        "Data Type : A string stores only characters, while a list can store elements of any data type (numbers,strings, objects, etc.).\n",
        "\n",
        ">>2.\n",
        "Mutability : Strings are immutable, whereas lists are mutable .\n",
        "\n",
        ">>3.\n",
        "Element Type : Strings can contain only characters, but lists can have mixed data types.\n",
        "\n",
        ">>4.\n",
        "Modification : You cannot directly change a character in a string, but you can change, add, or removeelements in a list.\n",
        "\n",
        ">>5.\n",
        "Operations : Strings have text-specific methods (upper(), replace(), split()), while lists have collection-specific methods (append(), remove(), sort()).\n",
        "\n",
        ">>6.\n",
        "Representation : Strings are written inside quotes (' ', \" \"), while lists are written inside square brackets [ ].\n",
        "\n",
        ">>7.\n",
        "Usage : Strings are used for text data, while lists are used for storing a sequence of items."
      ],
      "metadata": {
        "id": "oihO7OqV_Guh"
      }
    },
    {
      "cell_type": "markdown",
      "source": [
        "Q7. How do tuples ensure data integrity in Python ?\n",
        "\n",
        ">Tuples ensure data integrity in Python mainly because they are immutable.\n",
        "Other reasons tuples ensure data integrity:\n",
        ">>1.\n",
        "Prevents accidental changes : Since tuples can’t be modified, your data stays exactly as it was when created.\n",
        ">>2.\n",
        "Reliable as constants : Tuples can store fixed data (like configuration values) that must remain the same throughout theprogram.\n",
        "\n",
        ">>3.\n",
        "Safe for keys in dictionaries : Their immutability allows them to be used as dictionary keys or stored in sets without riskof being altered.\n",
        "\n",
        ">>4.\n",
        "Predictable behavior : No unexpected changes in tuple data make debugging and tracking logic easier.\n",
        "\n",
        ">>5.\n",
        "Thread-safety : In multi-threaded programs, immutable data structures like tuples reduce the chance of data corruptionfrom concurrent modifications."
      ],
      "metadata": {
        "id": "bP8lowLYCZBo"
      }
    },
    {
      "cell_type": "markdown",
      "source": [
        "Q8. What is a hash table, and how does it relate to dictionaries in Python ?\n",
        "\n",
        ">A hash table is a data structure that stores key–value pairs and uses a hash function to map each key to a specific index(bucket) in memory.\n",
        "Relation of Hashtable to dictionaries :\n",
        "\n",
        ">>1.\n",
        "In Python, a dictionary (dict) is implemented using a hash table.\n",
        "\n",
        ">>2.\n",
        "Keys in a dictionary are hashed internally, and their hash values decide where the corresponding values arestored in memory.\n",
        "\n",
        ">>3.\n",
        "Only immutable and hashable objects can be used as dictionary keys.\n",
        "\n",
        ">>4.\n",
        "Hash tables let dictionaries perform very fast lookups, even with large amounts of data.\n"
      ],
      "metadata": {
        "id": "_JErTMLWDBKr"
      }
    },
    {
      "cell_type": "code",
      "source": [
        "my_dict = {\"name\": \"Sakshi\", \"age\": 25}\n",
        "# \"name\" is hashed internally → value 25 stored at a memory bucket\n",
        "print(my_dict[\"name\"]) # Output: Alice"
      ],
      "metadata": {
        "id": "ApFVzGrqDXdL"
      },
      "execution_count": null,
      "outputs": []
    },
    {
      "cell_type": "markdown",
      "source": [
        "Q9. Can lists contain different data types in Python ?\n",
        "\n",
        ">Yes, lists in Python can contain different data types in the same list.\n",
        "\n",
        ">A list can hold integers, floats, strings, booleans, objects, even other lists — all mixed together.\n",
        "\n",
        ">This is possible because Python lists are dynamic and store references to objects, not fixed-type elements.\n"
      ],
      "metadata": {
        "id": "F9Ir47CMDZe0"
      }
    },
    {
      "cell_type": "code",
      "source": [
        "my_list = [10, \"Hello\", 3.14, True, [1, 2, 3]]\n",
        "print(my_list)\n"
      ],
      "metadata": {
        "id": "mBKI2OJcEAwt"
      },
      "execution_count": null,
      "outputs": []
    },
    {
      "cell_type": "markdown",
      "source": [
        "Q10. Explain why strings are immutable in Python .\n",
        "\n",
        ">Reasons String are immutable:\n",
        "\n",
        ">>1.\n",
        "Memory efficiency : Immutability allows Python to reuse identical string objects (string interning), saving memory.\n",
        "\n",
        ">>2.\n",
        "Hash consistency : Strings must stay unchanged so their hash value remains constant when used as dictionary or setkeys.\n",
        "\n",
        ">>3.\n",
        "Thread-safety : Because strings can’t be modified, they can be shared between threads without risk of corruption.\n",
        "\n",
        ">>4.\n",
        "Predictable behavior : Fixed, unchangeable strings prevent accidental changes, making code more reliable.\n",
        "\n",
        ">>5.\n",
        "Performance optimization : Immutable strings can be stored and accessed in a way that speeds up certain operations."
      ],
      "metadata": {
        "id": "WNbech69DnVQ"
      }
    },
    {
      "cell_type": "markdown",
      "source": [
        "Q11. What advantages do dictionaries offer over lists for certain tasks ?\n",
        "\n",
        ">Advantages do dictionaries offer over lists for certain tasks are:\n",
        "\n",
        ">>1.\n",
        "Faster lookups : Dictionaries provide average O(1) time complexity for accessing values by key, while lists take O(n) forsearches.\n",
        "\n",
        ">>2.\n",
        "Key-based access : You can access data using meaningful keys instead of relying on numeric indexes.\n",
        "\n",
        ">>3.\n",
        "No need for manual searching : Values are retrieved directly by key without iterating through the entire collection.\n",
        "\n",
        ">>4.\n",
        "Unordered but organized : Data is stored in a way that’s easy to manage when you care about associations rather thanorder.\n",
        "\n",
        ">>5.\n",
        "Flexible keys and values : Keys can be any immutable type (string, number, tuple), and values can be any data type.\n",
        "\n",
        ">>6.\n",
        "Clear mapping of data : Perfect for storing real-world data with a clear “label → value” relationship.\n"
      ],
      "metadata": {
        "id": "ibvqjPe4EZqe"
      }
    },
    {
      "cell_type": "code",
      "source": [
        "# List of [name, phone] pairs\n",
        "contacts_list = [[\"Alice\", \"1234\"], [\"Bob\", \"5678\"], [\"Charlie\", \"9101\"]]\n",
        "# Find Bob's number\n",
        "for name, phone in contacts_list:\n",
        "  if name == \"Bob\":\n",
        "    print(phone) # Output: 5678\n",
        "    break\n",
        "# Dictionary of name: phone pairs\n",
        "contacts_dict = {\"Alice\": \"1234\", \"Bob\": \"5678\", \"Charlie\": \"9101\"}\n",
        "# Find Bob's number\n",
        "print(contacts_dict[\"Bob\"]) # Output: 5678\n"
      ],
      "metadata": {
        "id": "z63QR7qUE6BL"
      },
      "execution_count": null,
      "outputs": []
    },
    {
      "cell_type": "markdown",
      "source": [
        "Difference : Time Complexity of Dictionary is O(1) where as list is O(n)."
      ],
      "metadata": {
        "id": "Z61oZW2YFXT2"
      }
    },
    {
      "cell_type": "markdown",
      "source": [
        "Q12. Describe a scenario where using a tuple would be preferable over a list.\n",
        "\n",
        ">Scenario:\n",
        "\n",
        ">>Storing fixed GPS coordinates of a city in a program.\n",
        "\n",
        "Example:\n"
      ],
      "metadata": {
        "id": "IXUmFdhQFwG8"
      }
    },
    {
      "cell_type": "code",
      "source": [
        "# Latitude and Longitude of New York\n",
        "new_york_coordinates = (40.7128, -74.0060)\n"
      ],
      "metadata": {
        "id": "qEkV8wR8mD6n"
      },
      "execution_count": null,
      "outputs": []
    },
    {
      "cell_type": "markdown",
      "source": [
        ">Why tuple is preferable:\n",
        "\n",
        ">>1.\n",
        "The coordinates should never change during the program’s execution → tuples are immutable, ensuring data integrity.\n",
        "\n",
        ">>2.\n",
        "Tuples can be used as dictionary keys if you need to store location-based data (lists cannot be keys).\n",
        "\n",
        ">>3.\n",
        "Slightly faster than lists for access, making them efficient for fixed datasets."
      ],
      "metadata": {
        "id": "r-UwmBXGmKck"
      }
    },
    {
      "cell_type": "markdown",
      "source": [
        "Q13. How do sets handle duplicate values in Python ?\n",
        "\n",
        ">Sets automatically remove duplicate values because they only store unique elements.\n",
        "\n",
        ">When you try to add a duplicate to a set, Python ignores it silently.\n",
        "This is possible because sets use a hash table internally, where each element’s hash value must be unique.\n"
      ],
      "metadata": {
        "id": "EG9AKqCUmsd3"
      }
    },
    {
      "cell_type": "code",
      "source": [
        "my_set = {1, 2, 2, 3, 3, 3}\n",
        "print(my_set)"
      ],
      "metadata": {
        "id": "Sk9DxG8Ym8CN"
      },
      "execution_count": null,
      "outputs": []
    },
    {
      "cell_type": "markdown",
      "source": [
        "Q14. How does the “in” keyword work differently for lists and dictionaries ?\n",
        "\n",
        "The in keyword behaves differently for lists and dictionaries in Python:\n",
        "\n",
        "1. For lists \"in\" checks if a value exists anywhere in the list.\n"
      ],
      "metadata": {
        "id": "VmQ6WX3Mm_Mz"
      }
    },
    {
      "cell_type": "code",
      "source": [
        "numbers = [1, 2, 3, 4]\n",
        "print(3 in numbers) #(checks values)\n",
        "print(5 in numbers)\n",
        "\n"
      ],
      "metadata": {
        "id": "g-Mej0t6nVhp"
      },
      "execution_count": null,
      "outputs": []
    },
    {
      "cell_type": "markdown",
      "source": [
        "2. For dictionaries – in checks if a key exists in the dictionary (not the value).\n"
      ],
      "metadata": {
        "id": "EevUW7fonci4"
      }
    },
    {
      "cell_type": "code",
      "source": [
        "person = {\"name\": \"Alice\", \"age\": 25}\n",
        "print(\"name\" in person) # checks keys\n",
        "print(\"Alice\" in person) # does not check values"
      ],
      "metadata": {
        "id": "0gxiA4b1nfy6"
      },
      "execution_count": null,
      "outputs": []
    },
    {
      "cell_type": "markdown",
      "source": [
        "Q15. Can you modify the elements of a tuple? Explain why or why not .\n",
        "\n",
        ">No we cannot modify the elements of a tuple in Python.\n",
        "Reason:\n",
        "1. Tuples are immutable, meaning once they are created, their elements cannot be changed, added, or removed.\n",
        "2. This immutability ensures data integrity, allows tuples to be used as dictionary keys or stored in sets, and makes themmore memory-efficient and thread-safe.\n"
      ],
      "metadata": {
        "id": "A5Zg6GsAnjOf"
      }
    },
    {
      "cell_type": "code",
      "source": [
        "t = (1, 2, 3)\n",
        "t[0] = 10 # TypeError: 'tuple' object does not support item assignment"
      ],
      "metadata": {
        "id": "MzNs5KYenzFl"
      },
      "execution_count": null,
      "outputs": []
    },
    {
      "cell_type": "markdown",
      "source": [
        "Q16. What is a nested dictionary, and give an example of its use case ?\n",
        ">Nested Dictionary:\n",
        "\n",
        ">>1.\n",
        "A nested dictionary is a dictionary that contains another dictionary as one or more of its values.\n",
        "\n",
        ">>2.\n",
        "It’s used to store hierarchical or structured data in a compact, organized way.\n"
      ],
      "metadata": {
        "id": "QYumBgmAn49F"
      }
    },
    {
      "cell_type": "code",
      "source": [
        "# Example of usecase\n",
        "students = {\"Alice\": {\"age\": 20, \"marks\": {\"Math\": 90, \"Science\": 85}},\"Bob\": {\"age\": 22, \"marks\": {\"Math\": 78, \"Science\": 88}}}\n",
        "# Access Bob's Science marks\n",
        "print(students[\"Bob\"][\"marks\"][\"Science\"])"
      ],
      "metadata": {
        "id": "yEwlIgKUoO-9"
      },
      "execution_count": null,
      "outputs": []
    },
    {
      "cell_type": "markdown",
      "source": [],
      "metadata": {
        "id": "mwijZW-xmqYS"
      }
    },
    {
      "cell_type": "markdown",
      "source": [
        "Q17. Describe the time complexity of accessing elements in a dictionary.\n",
        "\n",
        ">Accessing elements in a dictionary in Python has:\n",
        "\n",
        ">1. Average case: O(1) : Constant time, because dictionaries use a hash table for key lookups.\n",
        "2. Worst case: O(n) : Happens rarely, only when many keys have the same hash value (hash collision) and Python has tosearch through them linearly.\n"
      ],
      "metadata": {
        "id": "_LXddllkojze"
      }
    },
    {
      "cell_type": "code",
      "source": [
        "person = {\"name\": \"Alice\", \"age\": 25}\n",
        "print(person[\"age\"]) # O(1) average time"
      ],
      "metadata": {
        "id": "DxJlTnPIo4Nu"
      },
      "execution_count": null,
      "outputs": []
    },
    {
      "cell_type": "markdown",
      "source": [
        "Q18. In what situations are lists preferred over dictionaries ?\n",
        "\n",
        ">Situations where lists are preferred over dictionaries:\n",
        "\n",
        ">1. Order matters : When you need to preserve and work with the sequence of elements.\n",
        "2. No key-value mapping needed : When you only care about storing values, not associating them with unique keys.\n",
        "3. Allow duplicates : When you need to store the same value multiple times.\n",
        "4. Index-based access : When elements are best accessed by their position (index) rather than by a key.\n",
        "5. Small datasets : For small collections where the speed benefit of a dictionary is negligible.\n",
        "6. Iteration over values : When you want to loop through elements directly without worrying about keys.\n"
      ],
      "metadata": {
        "id": "LNX4pU_mo6o6"
      }
    },
    {
      "cell_type": "code",
      "source": [
        "fruits = [\"apple\", \"banana\", \"orange\", \"banana\"]\n",
        "print(fruits[1])"
      ],
      "metadata": {
        "id": "LRYNpCHUpPZi"
      },
      "execution_count": null,
      "outputs": []
    },
    {
      "cell_type": "markdown",
      "source": [
        "Q19. Why are dictionaries considered unordered, and how does that affect data retrieval ?\n",
        "\n",
        ">Dictionaries are considered unordered:\n",
        "\n",
        ">1. Before Python 3.7, dictionaries did not guarantee that elements would be stored or iterated in the order they wereinserted.\n",
        "2. This is because dictionaries are implemented using a hash table, where the storage location of each key-value pairdepends on the key’s hash value, not its position.\n",
        "\n",
        ">Effect on data retrieval:\n",
        "\n",
        ">1. Key-based retrieval is unaffected we can always access a value directly using its key in O(1) time, regardless of order.\n",
        "2. However, iteration order was unpredictable in older versions of Python, meaning looping over a dictionary could produceelements in any sequence.\n",
        "3. From Python 3.7+, insertion order is preserved as an implementation detail but retrieval by key is still independent oforder."
      ],
      "metadata": {
        "id": "rl7veIIrpVBc"
      }
    },
    {
      "cell_type": "markdown",
      "source": [
        "Q20. Explain the difference between a list and a dictionary in terms of data retrieval.\n",
        ">Difference between a list and a dictionary in terms of data retrieval:\n",
        "\n",
        ">1. List : Retrieval is index-based\n",
        "We access elements using their position (0, 1, 2, …).\n",
        "Time complexity: O(1) for direct index access, but O(n) if you search for a value.\n"
      ],
      "metadata": {
        "id": "tBeez8zSpyLT"
      }
    },
    {
      "cell_type": "code",
      "source": [
        "fruits = [\"apple\", \"banana\", \"cherry\"]\n",
        "print(fruits[1])\n"
      ],
      "metadata": {
        "id": "iH5nY8XjqCp9"
      },
      "execution_count": null,
      "outputs": []
    },
    {
      "cell_type": "markdown",
      "source": [
        "2. Dictionary : Retrieval is key-based\n",
        "We access values using unique keys, not positions.\n",
        "Time complexity: O(1) on average because of hashing.\n"
      ],
      "metadata": {
        "id": "adA6fBW5qEjC"
      }
    },
    {
      "cell_type": "code",
      "source": [
        "person = {\"name\": \"Alice\", \"age\": 25}\n",
        "print(person[\"age\"])"
      ],
      "metadata": {
        "id": "gfUwlKdZqIkH"
      },
      "execution_count": null,
      "outputs": []
    },
    {
      "cell_type": "markdown",
      "source": [
        "# Practical Questions:"
      ],
      "metadata": {
        "id": "MO7bccK3qKJE"
      }
    },
    {
      "cell_type": "markdown",
      "source": [
        "let's ready to dive into anya's world...."
      ],
      "metadata": {
        "id": "rBd_DB3awm0G"
      }
    },
    {
      "cell_type": "code",
      "execution_count": null,
      "metadata": {
        "colab": {
          "base_uri": "https://localhost:8080/"
        },
        "id": "Z4oE23BXo8ex",
        "outputId": "ba8dba1e-b367-4387-b94a-9c9962a34fd9"
      },
      "outputs": [
        {
          "output_type": "stream",
          "name": "stdout",
          "text": [
            "Anya writes her name: Anya Forger\n",
            "Anya says: Hello, my name is Anya Forger\n"
          ]
        }
      ],
      "source": [
        "# Q1. Create a string with your name and print it\n",
        "anya_name = \"Anya Forger\"\n",
        "print(f\"Anya writes her name: {anya_name}\", )\n",
        "print(\"Anya says: Hello, my name is\",anya_name)\n"
      ]
    },
    {
      "cell_type": "code",
      "source": [
        "# Q2. Find the length of the string \"Hello World\"\n",
        "message = \"Hello World\"\n",
        "print(\"Anya's secret message\", message)\n",
        "print(\"message length:\", len(message))"
      ],
      "metadata": {
        "colab": {
          "base_uri": "https://localhost:8080/"
        },
        "id": "yOw-8FVvtR5-",
        "outputId": "b0f631b3-7233-4542-d680-9f2256e345d2"
      },
      "execution_count": null,
      "outputs": [
        {
          "output_type": "stream",
          "name": "stdout",
          "text": [
            "Anya's secret message Hello World\n",
            "message length: 11\n"
          ]
        }
      ]
    },
    {
      "cell_type": "code",
      "source": [
        "# Q3. Write a code to slice the first 3 characters from the string \"Python Programming\"\n",
        "homework = \"Python Programming\"\n",
        "first_three = homework[:3]\n",
        "print(\"Anya's homework:\", homework)\n",
        "print(\"First three letters Anya wrote:\", first_three)"
      ],
      "metadata": {
        "colab": {
          "base_uri": "https://localhost:8080/"
        },
        "id": "Ytl2HvH7uL41",
        "outputId": "02fb2177-e9ac-4e6c-dfc2-0df40bbc95ef"
      },
      "execution_count": null,
      "outputs": [
        {
          "output_type": "stream",
          "name": "stdout",
          "text": [
            "Anya's homework: Python Programming\n",
            "First three letters Anya wrote: Pyt\n"
          ]
        }
      ]
    },
    {
      "cell_type": "code",
      "source": [
        "# Q4. Write a code to convert the string \"hello\" to uppercase\n",
        "secret_word = \"hello\"\n",
        "print(\"Anya's secret word\", secret_word)\n",
        "print(\"Anya shouts:\", secret_word.upper())"
      ],
      "metadata": {
        "colab": {
          "base_uri": "https://localhost:8080/"
        },
        "id": "M-oNA7NQvxki",
        "outputId": "84b683fc-0ad0-4751-d644-e677c7a59180"
      },
      "execution_count": null,
      "outputs": [
        {
          "output_type": "stream",
          "name": "stdout",
          "text": [
            "Anya's secret word hello\n",
            "Anya shouts: HELLO\n"
          ]
        }
      ]
    },
    {
      "cell_type": "code",
      "source": [
        "# Q5. Write a code to replace the word \"apple\" with \"orange\" in the string \"I like apple\"\n",
        "sentence = \"I like apple\"\n",
        "new_sentence = sentence.replace(\"apple\", \"orange\")\n",
        "print(\"Anya first said:\", sentence)\n",
        "print(\"Anya changed her mind now says:\", new_sentence)"
      ],
      "metadata": {
        "colab": {
          "base_uri": "https://localhost:8080/"
        },
        "id": "PWVEyrXlwot3",
        "outputId": "5a046c36-b687-4e1b-f874-3c2b6826418a"
      },
      "execution_count": null,
      "outputs": [
        {
          "output_type": "stream",
          "name": "stdout",
          "text": [
            "Anya first said: I like apple\n",
            "Anya changed her mind now says: I like orange\n"
          ]
        }
      ]
    },
    {
      "cell_type": "code",
      "source": [
        "# Q6. Write a code to create a list with numbers 1 to 5 and print it.\n",
        "# Anya collecting stella stars\n",
        "stella_stars = []\n",
        "for star in range (1,6):\n",
        "  stella_stars.append(star)\n",
        "print(\"🌟 Anya's Stella stars collection:\", stella_stars)"
      ],
      "metadata": {
        "colab": {
          "base_uri": "https://localhost:8080/"
        },
        "id": "0BK08Qw3xqp5",
        "outputId": "ae2daaca-a931-4f00-d595-2115346a616a"
      },
      "execution_count": null,
      "outputs": [
        {
          "output_type": "stream",
          "name": "stdout",
          "text": [
            "🌟 Anya's Stella stars collection: [1, 2, 3, 4, 5]\n"
          ]
        }
      ]
    },
    {
      "cell_type": "code",
      "source": [
        "# Q7. Write a code to append the number 10 to the list [1, 2, 3, 4]\n",
        "anya_counting = [1, 2, 3, 4]\n",
        "anya_counting.append(10)\n",
        "print(\"Anya counting numbers:\", anya_counting)\n",
        "print(\"Anya says: Hehe... I'm a math genius!!\")\n"
      ],
      "metadata": {
        "colab": {
          "base_uri": "https://localhost:8080/"
        },
        "id": "c4D0t46N0EzU",
        "outputId": "84815b47-1708-4b6a-e1a9-a0029e35faa5"
      },
      "execution_count": null,
      "outputs": [
        {
          "output_type": "stream",
          "name": "stdout",
          "text": [
            "Anya counting numbers: [1, 2, 3, 4, 10]\n",
            "Anya says: Hehe... I'm a math genius!!\n"
          ]
        }
      ]
    },
    {
      "cell_type": "code",
      "source": [
        "# Q8. Write a code to remove the number 3 from the list [1, 2, 3, 4, 5]\n",
        "anya_list =  [1, 2, 3, 4, 5]\n",
        "anya_list.remove(3) # Anya kicked out 3\n",
        "print(\"Anya's list:\", anya_list)\n",
        "print(\"Anya's says: Hehehe... I erased 3 like magic!\")"
      ],
      "metadata": {
        "colab": {
          "base_uri": "https://localhost:8080/"
        },
        "id": "8ChYVOTA1RO5",
        "outputId": "71825c92-7b1e-4b3d-f274-9d5bcc2a8a0a"
      },
      "execution_count": null,
      "outputs": [
        {
          "output_type": "stream",
          "name": "stdout",
          "text": [
            "Anya's list: [1, 2, 4, 5]\n",
            "Anya's says: Hehehe... I erased 3 like magic!\n"
          ]
        }
      ]
    },
    {
      "cell_type": "code",
      "source": [
        "# Q9. Write a code to access the second element in the list ['a', 'b', 'c', 'd']\n",
        "anya_list = ['a', 'b', 'c', 'd']\n",
        "print(\"Anya peeks into the list 👀\")\n",
        "print(\"Second element is:\", anya_list[1])\n"
      ],
      "metadata": {
        "colab": {
          "base_uri": "https://localhost:8080/"
        },
        "id": "l8hQ5Sti2C2V",
        "outputId": "3477758b-1b95-443d-b9e9-d00fef80b666"
      },
      "execution_count": null,
      "outputs": [
        {
          "output_type": "stream",
          "name": "stdout",
          "text": [
            "Anya peeks into the list 👀\n",
            "Second element is: b\n"
          ]
        }
      ]
    },
    {
      "cell_type": "code",
      "source": [
        "# Q10. Write a code to reverse the list [10, 20, 30, 40, 50]\n",
        "anya_list = [10, 20, 30, 40, 50]\n",
        "anya_list.reverse()\n",
        "print(\"Anya flips the list upside down!\\nReversed list:\", anya_list)\n"
      ],
      "metadata": {
        "colab": {
          "base_uri": "https://localhost:8080/"
        },
        "id": "RmZ_n5NV4dFQ",
        "outputId": "9cd30430-dcad-43e1-f590-ef4df3aba66b"
      },
      "execution_count": null,
      "outputs": [
        {
          "output_type": "stream",
          "name": "stdout",
          "text": [
            "Anya flips the list upside down!\n",
            "Reversed list: [50, 40, 30, 20, 10]\n"
          ]
        }
      ]
    },
    {
      "cell_type": "code",
      "source": [
        "# Q11. Write a code to create a tuple with the elements 100, 200, 300 and print it\n",
        "tuple = (100, 200, 300)\n",
        "print(\"Tuple:\",tuple)"
      ],
      "metadata": {
        "colab": {
          "base_uri": "https://localhost:8080/"
        },
        "id": "Yckg7_2Y5VnL",
        "outputId": "d20d849c-ba00-4087-a4d9-cd46a62a637a"
      },
      "execution_count": null,
      "outputs": [
        {
          "output_type": "stream",
          "name": "stdout",
          "text": [
            "Tuple: (100, 200, 300)\n"
          ]
        }
      ]
    },
    {
      "cell_type": "code",
      "source": [
        "# Q12. Write a code to access the second-to-last element of the tuple ('red', 'green', 'blue', 'yellow')\n",
        "colors = ('red', 'green', 'blue', 'yellow')\n",
        "second_last = colors[-2]\n",
        "print(\"Anya's candy colors\", colors)\n",
        "print(\"Anya picks second-to-last color:\", second_last)\n"
      ],
      "metadata": {
        "colab": {
          "base_uri": "https://localhost:8080/"
        },
        "id": "AeHizKiq5_zU",
        "outputId": "4ed8bce2-298b-4253-e0da-0cef8f91c1aa"
      },
      "execution_count": null,
      "outputs": [
        {
          "output_type": "stream",
          "name": "stdout",
          "text": [
            "Anya's candy colors ('red', 'green', 'blue', 'yellow')\n",
            "Anya picks second-to-last color: blue\n"
          ]
        }
      ]
    },
    {
      "cell_type": "code",
      "source": [
        "# Q13. Write a code to find the minimum number in the tuple (10, 20, 5, 15)\n",
        "marks = (10, 20, 5, 15)\n",
        "lowest_marks = min(marks)\n",
        "print(f\"Anya's exam marks {marks}\\nAnya finds the lowest marks {lowest_marks} 😥\")"
      ],
      "metadata": {
        "colab": {
          "base_uri": "https://localhost:8080/"
        },
        "id": "y4upXJ2B7Gr-",
        "outputId": "7175b0b8-d479-431b-ba88-91dc8ddfc0be"
      },
      "execution_count": null,
      "outputs": [
        {
          "output_type": "stream",
          "name": "stdout",
          "text": [
            "Anya's exam marks (10, 20, 5, 15)\n",
            "Anya finds the lowest marks 5 😥\n"
          ]
        }
      ]
    },
    {
      "cell_type": "code",
      "source": [
        "# Q14. Write a code to find the index of the element \"cat\" in the tuple ('dog', 'cat', 'rabbit')\n",
        "pets = ('dog', 'cat', 'rabbit')\n",
        "cat_index = pets.index('cat')\n",
        "print(\"🐾 Anya's pets:\", pets)\n",
        "print(\"😸 Anya find her cat at index:\", cat_index)"
      ],
      "metadata": {
        "colab": {
          "base_uri": "https://localhost:8080/"
        },
        "id": "ku10DIBY875b",
        "outputId": "6e387cc2-d31c-40c0-fab9-c650d12e7b71"
      },
      "execution_count": null,
      "outputs": [
        {
          "output_type": "stream",
          "name": "stdout",
          "text": [
            "🐾 Anya's pets: ('dog', 'cat', 'rabbit')\n",
            "😸 Anya find her cat at index: 1\n"
          ]
        }
      ]
    },
    {
      "cell_type": "code",
      "source": [
        "# Q15. Write a code to create a tuple containing three different fruits and check if \"kiwi\" is in it.\n",
        "fruits = ('apple', 'orange', 'grape')\n",
        "if 'kiwi' in fruits:\n",
        "  print(\"Anya found kiwi in her basket\")\n",
        "else:\n",
        "  print(\"Anya says: No kiwi here, only\", fruits)"
      ],
      "metadata": {
        "colab": {
          "base_uri": "https://localhost:8080/"
        },
        "id": "ofoToDUW-V_d",
        "outputId": "0140e482-ec82-4787-a72c-b67a041ba6aa"
      },
      "execution_count": null,
      "outputs": [
        {
          "output_type": "stream",
          "name": "stdout",
          "text": [
            "Anya says: No kiwi here, only ('apple', 'orange', 'grape')\n"
          ]
        }
      ]
    },
    {
      "cell_type": "code",
      "source": [
        "# Q16. Write a code to create a set with the elements 'a', 'b', 'c' and print it\n",
        "letters = {'a', 'b', 'c'}\n",
        "print(\"Anya secret letters set:\", letters)"
      ],
      "metadata": {
        "colab": {
          "base_uri": "https://localhost:8080/"
        },
        "id": "8FGcRMgU_TNj",
        "outputId": "15fbb2ee-7ed5-4f51-dd17-da24133315da"
      },
      "execution_count": null,
      "outputs": [
        {
          "output_type": "stream",
          "name": "stdout",
          "text": [
            "Anya secret letters set: {'a', 'c', 'b'}\n"
          ]
        }
      ]
    },
    {
      "cell_type": "code",
      "source": [
        "# Q17. Write a code to clear all elements from the set {1, 2, 3, 4, 5}.\n",
        "magic_numbers = {1, 2, 3, 4, 5}\n",
        "magic_numbers.clear()\n",
        "print(\"✨ Anya's magic numbers vanished:\", magic_numbers)"
      ],
      "metadata": {
        "colab": {
          "base_uri": "https://localhost:8080/"
        },
        "id": "bYHDJ90DALKB",
        "outputId": "88c7ea39-b761-4477-ed0b-d91a0e8060e0"
      },
      "execution_count": null,
      "outputs": [
        {
          "output_type": "stream",
          "name": "stdout",
          "text": [
            "✨ Anya's magic numbers vanished: set()\n"
          ]
        }
      ]
    },
    {
      "cell_type": "code",
      "source": [
        "# Q18. Write a code to remove the element 4 from the set {1, 2, 3, 4}.\n",
        "magic_numbers = {1, 2, 3, 4}\n",
        "magic_numbers.remove(4)  # remove element 4\n",
        "print(\"Anya's magic numbers after removing 4:\", magic_numbers)\n"
      ],
      "metadata": {
        "id": "I0vqV5qeA0gF"
      },
      "execution_count": null,
      "outputs": []
    },
    {
      "cell_type": "code",
      "source": [
        "# Q19. Write a code to find the union of two sets {1, 2, 3} and {3, 4, 5}\n",
        "set1 = {1, 2, 3}\n",
        "set2 = {3, 4, 5}\n",
        "all_magic = set1.union(set2)\n",
        "print(\"Anya combines the magic numbers\", all_magic)"
      ],
      "metadata": {
        "colab": {
          "base_uri": "https://localhost:8080/"
        },
        "id": "6x-fhSl1BDfL",
        "outputId": "2fda585a-d84f-403b-8871-c07368638e6f"
      },
      "execution_count": null,
      "outputs": [
        {
          "output_type": "stream",
          "name": "stdout",
          "text": [
            "Anya combines the magic numbers {1, 2, 3, 4, 5}\n"
          ]
        }
      ]
    },
    {
      "cell_type": "code",
      "source": [
        "# Q20. Write a code to find the intersection of two sets {1, 2, 3} and {2, 3, 4}\n",
        "set1 = {1, 2, 3}\n",
        "set2 = {2, 3, 4}\n",
        "common_magic = set1.intersection(set2)\n",
        "print(\"Anya finds common magic numbers:\", common_magic)"
      ],
      "metadata": {
        "colab": {
          "base_uri": "https://localhost:8080/"
        },
        "id": "WuvbxQBTf3i7",
        "outputId": "899e9ca6-3e7e-4e6d-977b-c2e89af6ec61"
      },
      "execution_count": null,
      "outputs": [
        {
          "output_type": "stream",
          "name": "stdout",
          "text": [
            "Anya finds common magic numbers: {2, 3}\n"
          ]
        }
      ]
    },
    {
      "cell_type": "code",
      "source": [
        "# Q21. Write a code to create a dictionary with the keys \"name\", \"age\", and \"city\", and print it\n",
        "anya_info = {\"name\": \"Anya Forger\", \"age\": 6, \"city\": \"Berlint\", \"school\": \"Eden Academy\"}\n",
        "print(\"Anya's diary info:\", anya_info)\n"
      ],
      "metadata": {
        "colab": {
          "base_uri": "https://localhost:8080/"
        },
        "id": "rbc1G-mjCyN5",
        "outputId": "bde0d587-1343-41b0-c54e-99cdc33fbfee"
      },
      "execution_count": null,
      "outputs": [
        {
          "output_type": "stream",
          "name": "stdout",
          "text": [
            "Anya's diary info: {'name': 'Anya Forger', 'age': 6, 'city': 'Berlint', 'school': 'Eden Academy'}\n"
          ]
        }
      ]
    },
    {
      "cell_type": "code",
      "source": [
        "# Q22. Write a code to add a new key-value pair \"country\": \"USA\" to the dictionary {'name': 'John', 'age': 25}\n",
        "john_info = {'name': 'John', 'age': 25}\n",
        "john_info[\"country\"] = \"USA\"\n",
        "print(\"Anya updated John's info:\", john_info)"
      ],
      "metadata": {
        "colab": {
          "base_uri": "https://localhost:8080/"
        },
        "id": "oiPiv4ZhizE0",
        "outputId": "ef34bc8b-74be-46ae-8947-27af24bdf863"
      },
      "execution_count": null,
      "outputs": [
        {
          "output_type": "stream",
          "name": "stdout",
          "text": [
            "Anya updated John's info: {'name': 'John', 'age': 25, 'country': 'USA'}\n"
          ]
        }
      ]
    },
    {
      "cell_type": "code",
      "source": [
        "# Q23. Write a code to access the value associated with the key \"name\" in the dictionary {'name': 'Alice', 'age': 30}\n",
        "alice_info = {'name': 'Alice', 'age': 30}\n",
        "name_value = alice_info['name']\n",
        "print(\"Anya reads the name from diary:\", name_value)"
      ],
      "metadata": {
        "colab": {
          "base_uri": "https://localhost:8080/"
        },
        "id": "Jn5z_CSVjs0g",
        "outputId": "a81afd53-572c-4569-821f-f48696326a86"
      },
      "execution_count": null,
      "outputs": [
        {
          "output_type": "stream",
          "name": "stdout",
          "text": [
            "Anya reads the name from diary: Alice\n"
          ]
        }
      ]
    },
    {
      "cell_type": "code",
      "source": [
        "# Q24. Write a code to remove the key \"age\" from the dictionary {'name': 'Bob', 'age': 22, 'city': 'New York'}\n",
        "bob_info = {'name': 'Bob', 'age': 22, 'city': 'New York'}\n",
        "bob_info.pop('age')\n",
        "print(\"Anya cleaned Bob's diary:\", bob_info)"
      ],
      "metadata": {
        "colab": {
          "base_uri": "https://localhost:8080/"
        },
        "id": "TA2bXhIalF_L",
        "outputId": "138408fb-9079-41c5-830d-309dc6a6d3ad"
      },
      "execution_count": null,
      "outputs": [
        {
          "output_type": "stream",
          "name": "stdout",
          "text": [
            "Anya cleaned Bob's diary: {'name': 'Bob', 'city': 'New York'}\n"
          ]
        }
      ]
    },
    {
      "cell_type": "code",
      "source": [
        "# Q25. Write a code to check if the key \"city\" exists in the dictionary {'name': 'Alice', 'city': 'Paris'}.\n",
        "alice_info = {'name': 'Alice', 'city': 'Paris'}\n",
        "if 'city' in alice_info.keys():\n",
        "  print(\"Anya found the city key! It is:\", alice_info['city'])\n",
        "else:\n",
        "  print(\"Anya says: No city info found!\")\n"
      ],
      "metadata": {
        "colab": {
          "base_uri": "https://localhost:8080/"
        },
        "id": "1lMpYquimO3c",
        "outputId": "d3471220-fd15-4cc6-c6e5-aea93c65440b"
      },
      "execution_count": null,
      "outputs": [
        {
          "output_type": "stream",
          "name": "stdout",
          "text": [
            "Anya found the city key! It is: Paris\n"
          ]
        }
      ]
    },
    {
      "cell_type": "code",
      "source": [
        "# Q26. Write a code to create a list, a tuple, and adictionary, and print them all\n",
        "# List of toys\n",
        "toys = ['teddy', 'ball', 'doll']\n",
        "\n",
        "# Tuple of magic potions\n",
        "potions = (10, 20, 30)\n",
        "\n",
        "# Dictionary of diary info\n",
        "diary_info = {'name': 'Anya', 'age': 6, 'city': 'Berlint'}\n",
        "\n",
        "print(\" Anya's toys list:\", toys)\n",
        "print(\" Anya's magic potions tuple:\", potions)\n",
        "print(\" Anya's diary info dictionary:\", diary_info)"
      ],
      "metadata": {
        "colab": {
          "base_uri": "https://localhost:8080/"
        },
        "id": "zpYGBAxbnzp2",
        "outputId": "38301634-7f74-4f5f-fe88-2ba3dfd4b778"
      },
      "execution_count": null,
      "outputs": [
        {
          "output_type": "stream",
          "name": "stdout",
          "text": [
            " Anya's toys list: ['teddy', 'ball', 'doll']\n",
            " Anya's magic potions tuple: (10, 20, 30)\n",
            " Anya's diary info dictionary: {'name': 'Anya', 'age': 6, 'city': 'Berlint'}\n"
          ]
        }
      ]
    },
    {
      "cell_type": "code",
      "source": [
        "# Q27. Write a code to create a list of 5 random numbers between 1 and 100, sort it in ascending order, and print the result\n",
        "import random\n",
        "lucky_numbers = [random.randint(1,100) for i in range(5)]\n",
        "lucky_numbers.sort()\n",
        "print(\"Anya's sorted lucky numbers:\", lucky_numbers)\n"
      ],
      "metadata": {
        "colab": {
          "base_uri": "https://localhost:8080/"
        },
        "id": "6QmxQYzsoUtr",
        "outputId": "05343be1-1918-44cf-929d-617224a9e351"
      },
      "execution_count": null,
      "outputs": [
        {
          "output_type": "stream",
          "name": "stdout",
          "text": [
            "Anya's sorted lucky numbers: [15, 31, 51, 70, 99]\n"
          ]
        }
      ]
    },
    {
      "cell_type": "code",
      "source": [
        "# Q28. Write a code to create a list with strings and print the element at the third index.\n",
        "snacks = ['chocolate', 'cookie', 'cake', 'candy', 'gum']\n",
        "third_snack = snacks[3]\n",
        "print(\"Anya picks the snack at third index:\", third_snack)\n"
      ],
      "metadata": {
        "colab": {
          "base_uri": "https://localhost:8080/"
        },
        "id": "5PyJPy-aqC_Y",
        "outputId": "827378b4-4ee0-453e-f158-5cb3cf104fa5"
      },
      "execution_count": null,
      "outputs": [
        {
          "output_type": "stream",
          "name": "stdout",
          "text": [
            "Anya picks the snack at third index: candy\n"
          ]
        }
      ]
    },
    {
      "cell_type": "code",
      "source": [
        "# Q29. Write a code to combine two dictionaries into one and print the result.\n",
        "anya_info = {'name': 'Anya', 'age': 6}\n",
        "friend_info = {'city': 'Berlint', 'favorite_snack': 'peanuts'}\n",
        "\n",
        "# Combine dictionaries\n",
        "combined_info = {**anya_info, **friend_info}\n",
        "\n",
        "print(\" Anya's merged diary info:\", combined_info)"
      ],
      "metadata": {
        "colab": {
          "base_uri": "https://localhost:8080/"
        },
        "id": "BAZyaqpJsTMZ",
        "outputId": "744f455a-a679-4577-8bc8-4523cc51952d"
      },
      "execution_count": null,
      "outputs": [
        {
          "output_type": "stream",
          "name": "stdout",
          "text": [
            " Anya's merged diary info: {'name': 'Anya', 'age': 6, 'city': 'Berlint', 'favorite_snack': 'peanuts'}\n"
          ]
        }
      ]
    },
    {
      "cell_type": "code",
      "source": [
        "# Q30. Write a code to convert a list of strings into a set.\n",
        "# Ben 10 style unique aliens\n",
        "aliens = ['Four Arms', 'Heatblast', 'Feedback', 'XLR8', 'Diamondhead', 'Heatblast']\n",
        "unique_aliens = set(aliens)\n",
        "print(\"Ben 10's unique aliens ready for action:\", unique_aliens)"
      ],
      "metadata": {
        "colab": {
          "base_uri": "https://localhost:8080/"
        },
        "id": "9s0_fTaruJlT",
        "outputId": "c1ac0243-7329-4677-d1b1-63ea162e9f3d"
      },
      "execution_count": null,
      "outputs": [
        {
          "output_type": "stream",
          "name": "stdout",
          "text": [
            "Ben 10's unique aliens ready for action: {'Four Arms', 'XLR8', 'Feedback', 'Heatblast', 'Diamondhead'}\n"
          ]
        }
      ]
    },
    {
      "cell_type": "markdown",
      "source": [
        "Dear PW Skills Faculty,\n",
        "I am shamelessly confessing that I borrowed answers for all the theory questions from a fellow learner 😅.\n",
        "But the practical coding part is 100% my own work, last time I chose a Spiderman theme 🕷️, so this time I went with all my Anya-inspired (from Spy x Family) touch!\n",
        "Thanks for understanding my tiny shortcuts and my Anya-style creativity — she’s my little helper sneaking fun into coding while I learn!"
      ],
      "metadata": {
        "id": "xdNi4MugugS4"
      }
    }
  ]
}